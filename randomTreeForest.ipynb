{
 "cells": [
  {
   "cell_type": "code",
   "execution_count": null,
   "outputs": [],
   "source": [
    "import pandas as pd\n",
    "import numpy as np\n",
    "from scipy.stats import kendalltau\n",
    "import seaborn as sns\n",
    "from sklearn.feature_selection import SelectKBest, mutual_info_classif, chi2, RFE\n",
    "from sklearn.ensemble import RandomForestClassifier\n",
    "from IPython.core.display_functions import display\n",
    "import matplotlib.pyplot as plt\n",
    "from sklearn.metrics import mean_squared_error\n",
    "from sklearn.model_selection import train_test_split\n",
    "from sklearn.metrics import mean_absolute_error, mean_squared_error, r2_score\n",
    "from sklearn.ensemble import RandomForestRegressor\n",
    "from sklearn.tree import plot_tree\n",
    "import matplotlib.pyplot as plt\n",
    "from sklearn.model_selection import RandomizedSearchCV\n",
    "\n",
    "from sklearn.model_selection import GridSearchCV\n",
    "\n",
    "\n",
    "\n",
    "from sklearn.metrics import r2_score"
   ],
   "metadata": {
    "collapsed": false,
    "pycharm": {
     "name": "#%%\n"
    }
   }
  },
  {
   "cell_type": "code",
   "execution_count": null,
   "outputs": [],
   "source": [
    "df = pd.read_csv(\"encoded_df.csv\")"
   ],
   "metadata": {
    "collapsed": false,
    "pycharm": {
     "name": "#%%\n"
    }
   }
  },
  {
   "cell_type": "code",
   "execution_count": null,
   "outputs": [],
   "source": [
    "display(df)"
   ],
   "metadata": {
    "collapsed": false,
    "pycharm": {
     "name": "#%%\n"
    }
   }
  },
  {
   "cell_type": "code",
   "execution_count": null,
   "outputs": [],
   "source": [
    "from sklearn.model_selection import GridSearchCV\n",
    "\n",
    "X = df.drop('total_sales_price', axis=1)\n",
    "y = df['total_sales_price']\n",
    "\n",
    "# split data into train and test\n",
    "X_train, X_test, y_train, y_test = train_test_split(X, y, test_size=0.2, random_state=42)\n",
    "\n",
    "# Initialize random forest regressor\n",
    "rf = RandomForestRegressor(n_estimators=100, random_state=42, max_depth=6)\n",
    "\n",
    "rf.fit(X_train, y_train)\n",
    "\n",
    "# grid search\n",
    "# param_grid = {\n",
    "#     'n_estimators': [100, 200],\n",
    "#     'max_depth': [None, 12],\n",
    "#     'min_samples_split': [2, 10],\n",
    "#     'min_samples_leaf': [1, 4],\n",
    "#     'max_features': ['auto', 'sqrt']\n",
    "# }\n",
    "#\n",
    "# random_search = RandomizedSearchCV(\n",
    "#     estimator=rf,\n",
    "#     param_distributions=param_grid,\n",
    "#     n_iter=25,  # Number of parameter combinations to sample\n",
    "#     cv=5,\n",
    "#     scoring='neg_mean_squared_error',\n",
    "#     verbose=2,\n",
    "#     n_jobs=-1,\n",
    "#     random_state=42,\n",
    "# )\n",
    "# random_search.fit(X_train, y_train)\n",
    "#\n",
    "# best_rf = random_search.best_estimator_\n",
    "# y_pred = best_rf.predict(X_test)\n",
    "\n",
    "# end grid search\n",
    "\n",
    "y_pred = rf.predict(X_test)\n",
    "\n",
    "target_mean = df['total_sales_price'].mean()\n",
    "mae = mean_absolute_error(y_test, y_pred)\n",
    "mse = mean_squared_error(y_test, y_pred)\n",
    "rmse = np.sqrt(mse)\n",
    "r2 = r2_score(y_test, y_pred)\n",
    "\n",
    "print(f\"Target sales price mean: {target_mean:.2f}\")\n",
    "print(f\"Mean Absolute Error: {mae:.2f}\")\n",
    "print(f\"Mean Squared Error: {mse:.2f}\")\n",
    "print(f\"Root Mean Squared Error: {rmse:.2f}\")\n",
    "print(f\"R-squared: {r2:.2f}\")"
   ],
   "metadata": {
    "collapsed": false,
    "pycharm": {
     "name": "#%%\n"
    }
   }
  },
  {
   "cell_type": "code",
   "execution_count": null,
   "outputs": [],
   "source": [
    "\n",
    "# get first tree\n",
    "first_tree = rf.estimators_[0]\n",
    "\n",
    "plt.figure(figsize=(20, 10))\n",
    "\n",
    "# plot first tree\n",
    "plot_tree(first_tree, filled=True, feature_names=X.columns, fontsize=12)\n",
    "\n",
    "plt.show()"
   ],
   "metadata": {
    "collapsed": false,
    "pycharm": {
     "name": "#%%\n"
    }
   }
  },
  {
   "cell_type": "code",
   "execution_count": null,
   "outputs": [],
   "source": [
    "def bucketize_data(y_true, y_pred, num_buckets):\n",
    "    # creates a dataframe with the true vales and predicted values\n",
    "    df_bucket = pd.DataFrame({'true_values': y_true, 'predicted_values': y_pred})\n",
    "\n",
    "    # assign each observation to a bucket based on quantiles\n",
    "    df_bucket['bucket'], bucket_edges = pd.qcut(df_bucket['true_values'], q=num_buckets, labels=False, retbins=True)\n",
    "\n",
    "    # group by bucket and calculate the average true and predicted values for each bucket\n",
    "    bucket_comparison = df_bucket.groupby('bucket').agg(\n",
    "        true_avg=('true_values', 'mean'),\n",
    "        predicted_avg=('predicted_values', 'mean'),\n",
    "        count=('bucket', 'count')\n",
    "    )\n",
    "\n",
    "    return bucket_comparison, bucket_edges\n",
    "\n",
    "# number of buckets we want\n",
    "num_buckets = 10\n",
    "\n",
    "# calculate the bucket comparison and bucket edges\n",
    "bucket_comparison, bucket_edges = bucketize_data(y_test, y_pred, num_buckets)\n",
    "\n",
    "# display the bucket comparison\n",
    "display(bucket_comparison)\n",
    "\n",
    "# plot the average true values and predicted values for each bucket\n",
    "plt.figure(figsize=(12, 6))\n",
    "plt.plot(bucket_comparison.index, bucket_comparison['true_avg'], label='True Averages', marker='o')\n",
    "plt.plot(bucket_comparison.index, bucket_comparison['predicted_avg'], label='Predicted Averages', marker='o')\n",
    "plt.xlabel('Buckets')\n",
    "plt.ylabel('Averages')\n",
    "plt.title('Comparison of Predicted Averages and True Averages for Each Bucket')\n",
    "plt.legend()\n",
    "plt.grid()\n",
    "plt.show()"
   ],
   "metadata": {
    "collapsed": false,
    "pycharm": {
     "name": "#%%\n"
    }
   }
  },
  {
   "cell_type": "code",
   "execution_count": null,
   "outputs": [],
   "source": [],
   "metadata": {
    "collapsed": false,
    "pycharm": {
     "name": "#%%\n"
    }
   }
  },
  {
   "cell_type": "code",
   "execution_count": 6,
   "outputs": [],
   "source": [],
   "metadata": {
    "collapsed": false,
    "pycharm": {
     "name": "#%%\n"
    }
   }
  }
 ],
 "metadata": {
  "kernelspec": {
   "display_name": "Python 3",
   "language": "python",
   "name": "python3"
  },
  "language_info": {
   "codemirror_mode": {
    "name": "ipython",
    "version": 2
   },
   "file_extension": ".py",
   "mimetype": "text/x-python",
   "name": "python",
   "nbconvert_exporter": "python",
   "pygments_lexer": "ipython2",
   "version": "2.7.6"
  }
 },
 "nbformat": 4,
 "nbformat_minor": 0
}